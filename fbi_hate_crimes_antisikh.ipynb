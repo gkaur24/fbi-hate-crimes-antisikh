{
 "cells": [
  {
   "cell_type": "code",
   "execution_count": 24,
   "id": "73bb9ada-887e-432d-af5c-aa983a8cd91a",
   "metadata": {},
   "outputs": [],
   "source": [
    "# Libraries\n",
    "import pandas as pd\n",
    "import numpy as np\n",
    "import matplotlib.pyplot as plt\n",
    "import seaborn as sns\n",
    "\n",
    "import plotly.graph_objects as go\n",
    "import plotly.express as px\n",
    "\n",
    "import dash\n",
    "import dash_html_components as html\n",
    "import dash_core_components as dcc\n",
    "from dash.dependencies import Input, Output\n",
    "from jupyter_dash import JupyterDash"
   ]
  },
  {
   "cell_type": "code",
   "execution_count": 39,
   "id": "6fcbf4aa-58e7-4503-941b-201522a23824",
   "metadata": {},
   "outputs": [
    {
     "data": {
      "text/html": [
       "<div>\n",
       "<style scoped>\n",
       "    .dataframe tbody tr th:only-of-type {\n",
       "        vertical-align: middle;\n",
       "    }\n",
       "\n",
       "    .dataframe tbody tr th {\n",
       "        vertical-align: top;\n",
       "    }\n",
       "\n",
       "    .dataframe thead th {\n",
       "        text-align: right;\n",
       "    }\n",
       "</style>\n",
       "<table border=\"1\" class=\"dataframe\">\n",
       "  <thead>\n",
       "    <tr style=\"text-align: right;\">\n",
       "      <th></th>\n",
       "      <th>incident_id</th>\n",
       "      <th>data_year</th>\n",
       "      <th>ori</th>\n",
       "      <th>pug_agency_name</th>\n",
       "      <th>pub_agency_unit</th>\n",
       "      <th>agency_type_name</th>\n",
       "      <th>state_abbr</th>\n",
       "      <th>state_name</th>\n",
       "      <th>division_name</th>\n",
       "      <th>region_name</th>\n",
       "      <th>...</th>\n",
       "      <th>offender_race</th>\n",
       "      <th>offender_ethnicity</th>\n",
       "      <th>victim_count</th>\n",
       "      <th>offense_name</th>\n",
       "      <th>total_individual_victims</th>\n",
       "      <th>location_name</th>\n",
       "      <th>bias_desc</th>\n",
       "      <th>victim_types</th>\n",
       "      <th>multiple_offense</th>\n",
       "      <th>multiple_bias</th>\n",
       "    </tr>\n",
       "  </thead>\n",
       "  <tbody>\n",
       "    <tr>\n",
       "      <th>0</th>\n",
       "      <td>43</td>\n",
       "      <td>1991</td>\n",
       "      <td>AR0350100</td>\n",
       "      <td>Pine Bluff</td>\n",
       "      <td>NaN</td>\n",
       "      <td>City</td>\n",
       "      <td>AR</td>\n",
       "      <td>Arkansas</td>\n",
       "      <td>West South Central</td>\n",
       "      <td>South</td>\n",
       "      <td>...</td>\n",
       "      <td>Black or African American</td>\n",
       "      <td>Not Specified</td>\n",
       "      <td>1</td>\n",
       "      <td>Aggravated Assault</td>\n",
       "      <td>1.0</td>\n",
       "      <td>Residence/Home</td>\n",
       "      <td>Anti-Black or African American</td>\n",
       "      <td>Individual</td>\n",
       "      <td>S</td>\n",
       "      <td>S</td>\n",
       "    </tr>\n",
       "    <tr>\n",
       "      <th>1</th>\n",
       "      <td>44</td>\n",
       "      <td>1991</td>\n",
       "      <td>AR0350100</td>\n",
       "      <td>Pine Bluff</td>\n",
       "      <td>NaN</td>\n",
       "      <td>City</td>\n",
       "      <td>AR</td>\n",
       "      <td>Arkansas</td>\n",
       "      <td>West South Central</td>\n",
       "      <td>South</td>\n",
       "      <td>...</td>\n",
       "      <td>Black or African American</td>\n",
       "      <td>Not Specified</td>\n",
       "      <td>2</td>\n",
       "      <td>Aggravated Assault;Destruction/Damage/Vandalis...</td>\n",
       "      <td>1.0</td>\n",
       "      <td>Highway/Road/Alley/Street/Sidewalk</td>\n",
       "      <td>Anti-White</td>\n",
       "      <td>Individual</td>\n",
       "      <td>M</td>\n",
       "      <td>S</td>\n",
       "    </tr>\n",
       "    <tr>\n",
       "      <th>2</th>\n",
       "      <td>45</td>\n",
       "      <td>1991</td>\n",
       "      <td>AR0600300</td>\n",
       "      <td>North Little Rock</td>\n",
       "      <td>NaN</td>\n",
       "      <td>City</td>\n",
       "      <td>AR</td>\n",
       "      <td>Arkansas</td>\n",
       "      <td>West South Central</td>\n",
       "      <td>South</td>\n",
       "      <td>...</td>\n",
       "      <td>Black or African American</td>\n",
       "      <td>Not Specified</td>\n",
       "      <td>2</td>\n",
       "      <td>Aggravated Assault;Murder and Nonnegligent Man...</td>\n",
       "      <td>2.0</td>\n",
       "      <td>Residence/Home</td>\n",
       "      <td>Anti-White</td>\n",
       "      <td>Individual</td>\n",
       "      <td>M</td>\n",
       "      <td>S</td>\n",
       "    </tr>\n",
       "    <tr>\n",
       "      <th>3</th>\n",
       "      <td>46</td>\n",
       "      <td>1991</td>\n",
       "      <td>AR0600300</td>\n",
       "      <td>North Little Rock</td>\n",
       "      <td>NaN</td>\n",
       "      <td>City</td>\n",
       "      <td>AR</td>\n",
       "      <td>Arkansas</td>\n",
       "      <td>West South Central</td>\n",
       "      <td>South</td>\n",
       "      <td>...</td>\n",
       "      <td>Black or African American</td>\n",
       "      <td>Not Specified</td>\n",
       "      <td>1</td>\n",
       "      <td>Intimidation</td>\n",
       "      <td>1.0</td>\n",
       "      <td>Residence/Home</td>\n",
       "      <td>Anti-White</td>\n",
       "      <td>Individual</td>\n",
       "      <td>S</td>\n",
       "      <td>S</td>\n",
       "    </tr>\n",
       "    <tr>\n",
       "      <th>4</th>\n",
       "      <td>47</td>\n",
       "      <td>1991</td>\n",
       "      <td>AR0670000</td>\n",
       "      <td>Sevier</td>\n",
       "      <td>NaN</td>\n",
       "      <td>County</td>\n",
       "      <td>AR</td>\n",
       "      <td>Arkansas</td>\n",
       "      <td>West South Central</td>\n",
       "      <td>South</td>\n",
       "      <td>...</td>\n",
       "      <td>White</td>\n",
       "      <td>Not Specified</td>\n",
       "      <td>1</td>\n",
       "      <td>Intimidation</td>\n",
       "      <td>1.0</td>\n",
       "      <td>School/College</td>\n",
       "      <td>Anti-Black or African American</td>\n",
       "      <td>Individual</td>\n",
       "      <td>S</td>\n",
       "      <td>S</td>\n",
       "    </tr>\n",
       "    <tr>\n",
       "      <th>...</th>\n",
       "      <td>...</td>\n",
       "      <td>...</td>\n",
       "      <td>...</td>\n",
       "      <td>...</td>\n",
       "      <td>...</td>\n",
       "      <td>...</td>\n",
       "      <td>...</td>\n",
       "      <td>...</td>\n",
       "      <td>...</td>\n",
       "      <td>...</td>\n",
       "      <td>...</td>\n",
       "      <td>...</td>\n",
       "      <td>...</td>\n",
       "      <td>...</td>\n",
       "      <td>...</td>\n",
       "      <td>...</td>\n",
       "      <td>...</td>\n",
       "      <td>...</td>\n",
       "      <td>...</td>\n",
       "      <td>...</td>\n",
       "      <td>...</td>\n",
       "    </tr>\n",
       "    <tr>\n",
       "      <th>226323</th>\n",
       "      <td>1445214</td>\n",
       "      <td>2021</td>\n",
       "      <td>WY0150100</td>\n",
       "      <td>Cody</td>\n",
       "      <td>NaN</td>\n",
       "      <td>City</td>\n",
       "      <td>WY</td>\n",
       "      <td>Wyoming</td>\n",
       "      <td>Mountain</td>\n",
       "      <td>West</td>\n",
       "      <td>...</td>\n",
       "      <td>White</td>\n",
       "      <td>Not Hispanic or Latino</td>\n",
       "      <td>1</td>\n",
       "      <td>Simple Assault</td>\n",
       "      <td>1.0</td>\n",
       "      <td>Residence/Home</td>\n",
       "      <td>Anti-Lesbian (Female)</td>\n",
       "      <td>Individual</td>\n",
       "      <td>S</td>\n",
       "      <td>S</td>\n",
       "    </tr>\n",
       "    <tr>\n",
       "      <th>226324</th>\n",
       "      <td>1445630</td>\n",
       "      <td>2021</td>\n",
       "      <td>WY0070200</td>\n",
       "      <td>Riverton</td>\n",
       "      <td>NaN</td>\n",
       "      <td>City</td>\n",
       "      <td>WY</td>\n",
       "      <td>Wyoming</td>\n",
       "      <td>Mountain</td>\n",
       "      <td>West</td>\n",
       "      <td>...</td>\n",
       "      <td>Not Specified</td>\n",
       "      <td>Not Specified</td>\n",
       "      <td>1</td>\n",
       "      <td>Simple Assault</td>\n",
       "      <td>1.0</td>\n",
       "      <td>Highway/Road/Alley/Street/Sidewalk</td>\n",
       "      <td>Anti-White</td>\n",
       "      <td>Individual</td>\n",
       "      <td>S</td>\n",
       "      <td>S</td>\n",
       "    </tr>\n",
       "    <tr>\n",
       "      <th>226325</th>\n",
       "      <td>1448544</td>\n",
       "      <td>2021</td>\n",
       "      <td>WY0190100</td>\n",
       "      <td>Green River</td>\n",
       "      <td>NaN</td>\n",
       "      <td>City</td>\n",
       "      <td>WY</td>\n",
       "      <td>Wyoming</td>\n",
       "      <td>Mountain</td>\n",
       "      <td>West</td>\n",
       "      <td>...</td>\n",
       "      <td>White</td>\n",
       "      <td>Not Hispanic or Latino</td>\n",
       "      <td>1</td>\n",
       "      <td>Intimidation</td>\n",
       "      <td>1.0</td>\n",
       "      <td>Government/Public Building</td>\n",
       "      <td>Anti-American Indian or Alaska Native</td>\n",
       "      <td>Individual</td>\n",
       "      <td>S</td>\n",
       "      <td>S</td>\n",
       "    </tr>\n",
       "    <tr>\n",
       "      <th>226326</th>\n",
       "      <td>1448545</td>\n",
       "      <td>2021</td>\n",
       "      <td>WY0150000</td>\n",
       "      <td>Park</td>\n",
       "      <td>NaN</td>\n",
       "      <td>County</td>\n",
       "      <td>WY</td>\n",
       "      <td>Wyoming</td>\n",
       "      <td>Mountain</td>\n",
       "      <td>West</td>\n",
       "      <td>...</td>\n",
       "      <td>White</td>\n",
       "      <td>Not Hispanic or Latino</td>\n",
       "      <td>1</td>\n",
       "      <td>Aggravated Assault</td>\n",
       "      <td>1.0</td>\n",
       "      <td>Highway/Road/Alley/Street/Sidewalk</td>\n",
       "      <td>Anti-Mental Disability</td>\n",
       "      <td>Individual</td>\n",
       "      <td>S</td>\n",
       "      <td>S</td>\n",
       "    </tr>\n",
       "    <tr>\n",
       "      <th>226327</th>\n",
       "      <td>1448546</td>\n",
       "      <td>2021</td>\n",
       "      <td>WY0110100</td>\n",
       "      <td>Cheyenne</td>\n",
       "      <td>NaN</td>\n",
       "      <td>City</td>\n",
       "      <td>WY</td>\n",
       "      <td>Wyoming</td>\n",
       "      <td>Mountain</td>\n",
       "      <td>West</td>\n",
       "      <td>...</td>\n",
       "      <td>Not Specified</td>\n",
       "      <td>Not Specified</td>\n",
       "      <td>2</td>\n",
       "      <td>Theft From Motor Vehicle</td>\n",
       "      <td>1.0</td>\n",
       "      <td>Hotel/Motel/Etc.</td>\n",
       "      <td>Anti-White</td>\n",
       "      <td>Business;Individual</td>\n",
       "      <td>S</td>\n",
       "      <td>S</td>\n",
       "    </tr>\n",
       "  </tbody>\n",
       "</table>\n",
       "<p>226328 rows × 28 columns</p>\n",
       "</div>"
      ],
      "text/plain": [
       "        incident_id  data_year        ori    pug_agency_name pub_agency_unit  \\\n",
       "0                43       1991  AR0350100         Pine Bluff             NaN   \n",
       "1                44       1991  AR0350100         Pine Bluff             NaN   \n",
       "2                45       1991  AR0600300  North Little Rock             NaN   \n",
       "3                46       1991  AR0600300  North Little Rock             NaN   \n",
       "4                47       1991  AR0670000             Sevier             NaN   \n",
       "...             ...        ...        ...                ...             ...   \n",
       "226323      1445214       2021  WY0150100               Cody             NaN   \n",
       "226324      1445630       2021  WY0070200           Riverton             NaN   \n",
       "226325      1448544       2021  WY0190100        Green River             NaN   \n",
       "226326      1448545       2021  WY0150000               Park             NaN   \n",
       "226327      1448546       2021  WY0110100           Cheyenne             NaN   \n",
       "\n",
       "       agency_type_name state_abbr state_name       division_name region_name  \\\n",
       "0                  City         AR   Arkansas  West South Central       South   \n",
       "1                  City         AR   Arkansas  West South Central       South   \n",
       "2                  City         AR   Arkansas  West South Central       South   \n",
       "3                  City         AR   Arkansas  West South Central       South   \n",
       "4                County         AR   Arkansas  West South Central       South   \n",
       "...                 ...        ...        ...                 ...         ...   \n",
       "226323             City         WY    Wyoming            Mountain        West   \n",
       "226324             City         WY    Wyoming            Mountain        West   \n",
       "226325             City         WY    Wyoming            Mountain        West   \n",
       "226326           County         WY    Wyoming            Mountain        West   \n",
       "226327             City         WY    Wyoming            Mountain        West   \n",
       "\n",
       "        ...              offender_race      offender_ethnicity victim_count  \\\n",
       "0       ...  Black or African American           Not Specified            1   \n",
       "1       ...  Black or African American           Not Specified            2   \n",
       "2       ...  Black or African American           Not Specified            2   \n",
       "3       ...  Black or African American           Not Specified            1   \n",
       "4       ...                      White           Not Specified            1   \n",
       "...     ...                        ...                     ...          ...   \n",
       "226323  ...                      White  Not Hispanic or Latino            1   \n",
       "226324  ...              Not Specified           Not Specified            1   \n",
       "226325  ...                      White  Not Hispanic or Latino            1   \n",
       "226326  ...                      White  Not Hispanic or Latino            1   \n",
       "226327  ...              Not Specified           Not Specified            2   \n",
       "\n",
       "                                             offense_name  \\\n",
       "0                                      Aggravated Assault   \n",
       "1       Aggravated Assault;Destruction/Damage/Vandalis...   \n",
       "2       Aggravated Assault;Murder and Nonnegligent Man...   \n",
       "3                                            Intimidation   \n",
       "4                                            Intimidation   \n",
       "...                                                   ...   \n",
       "226323                                     Simple Assault   \n",
       "226324                                     Simple Assault   \n",
       "226325                                       Intimidation   \n",
       "226326                                 Aggravated Assault   \n",
       "226327                           Theft From Motor Vehicle   \n",
       "\n",
       "        total_individual_victims                       location_name  \\\n",
       "0                            1.0                      Residence/Home   \n",
       "1                            1.0  Highway/Road/Alley/Street/Sidewalk   \n",
       "2                            2.0                      Residence/Home   \n",
       "3                            1.0                      Residence/Home   \n",
       "4                            1.0                      School/College   \n",
       "...                          ...                                 ...   \n",
       "226323                       1.0                      Residence/Home   \n",
       "226324                       1.0  Highway/Road/Alley/Street/Sidewalk   \n",
       "226325                       1.0          Government/Public Building   \n",
       "226326                       1.0  Highway/Road/Alley/Street/Sidewalk   \n",
       "226327                       1.0                    Hotel/Motel/Etc.   \n",
       "\n",
       "                                    bias_desc         victim_types  \\\n",
       "0              Anti-Black or African American           Individual   \n",
       "1                                  Anti-White           Individual   \n",
       "2                                  Anti-White           Individual   \n",
       "3                                  Anti-White           Individual   \n",
       "4              Anti-Black or African American           Individual   \n",
       "...                                       ...                  ...   \n",
       "226323                  Anti-Lesbian (Female)           Individual   \n",
       "226324                             Anti-White           Individual   \n",
       "226325  Anti-American Indian or Alaska Native           Individual   \n",
       "226326                 Anti-Mental Disability           Individual   \n",
       "226327                             Anti-White  Business;Individual   \n",
       "\n",
       "       multiple_offense multiple_bias  \n",
       "0                     S             S  \n",
       "1                     M             S  \n",
       "2                     M             S  \n",
       "3                     S             S  \n",
       "4                     S             S  \n",
       "...                 ...           ...  \n",
       "226323                S             S  \n",
       "226324                S             S  \n",
       "226325                S             S  \n",
       "226326                S             S  \n",
       "226327                S             S  \n",
       "\n",
       "[226328 rows x 28 columns]"
      ]
     },
     "execution_count": 39,
     "metadata": {},
     "output_type": "execute_result"
    }
   ],
   "source": [
    "# Data Loading\n",
    "#1991-2021\n",
    "df = pd.read_csv(\"hate_crime_latest.csv\")\n",
    "df"
   ]
  },
  {
   "cell_type": "code",
   "execution_count": 40,
   "id": "95dde816-52e8-48be-a2e0-c986bdbb96ad",
   "metadata": {},
   "outputs": [
    {
     "data": {
      "text/html": [
       "<div>\n",
       "<style scoped>\n",
       "    .dataframe tbody tr th:only-of-type {\n",
       "        vertical-align: middle;\n",
       "    }\n",
       "\n",
       "    .dataframe tbody tr th {\n",
       "        vertical-align: top;\n",
       "    }\n",
       "\n",
       "    .dataframe thead th {\n",
       "        text-align: right;\n",
       "    }\n",
       "</style>\n",
       "<table border=\"1\" class=\"dataframe\">\n",
       "  <thead>\n",
       "    <tr style=\"text-align: right;\">\n",
       "      <th></th>\n",
       "      <th>incident_id</th>\n",
       "      <th>data_year</th>\n",
       "      <th>ori</th>\n",
       "      <th>pug_agency_name</th>\n",
       "      <th>pub_agency_unit</th>\n",
       "      <th>agency_type_name</th>\n",
       "      <th>state_abbr</th>\n",
       "      <th>state_name</th>\n",
       "      <th>division_name</th>\n",
       "      <th>region_name</th>\n",
       "      <th>...</th>\n",
       "      <th>offender_race</th>\n",
       "      <th>offender_ethnicity</th>\n",
       "      <th>victim_count</th>\n",
       "      <th>offense_name</th>\n",
       "      <th>total_individual_victims</th>\n",
       "      <th>location_name</th>\n",
       "      <th>bias_desc</th>\n",
       "      <th>victim_types</th>\n",
       "      <th>multiple_offense</th>\n",
       "      <th>multiple_bias</th>\n",
       "    </tr>\n",
       "  </thead>\n",
       "  <tbody>\n",
       "    <tr>\n",
       "      <th>176034</th>\n",
       "      <td>176080</td>\n",
       "      <td>2015</td>\n",
       "      <td>DCMPD0000</td>\n",
       "      <td>Washington</td>\n",
       "      <td>NaN</td>\n",
       "      <td>City</td>\n",
       "      <td>DC</td>\n",
       "      <td>District of Columbia</td>\n",
       "      <td>South Atlantic</td>\n",
       "      <td>South</td>\n",
       "      <td>...</td>\n",
       "      <td>Multiple</td>\n",
       "      <td>Not Specified</td>\n",
       "      <td>1</td>\n",
       "      <td>Destruction/Damage/Vandalism of Property</td>\n",
       "      <td>1.0</td>\n",
       "      <td>Convenience Store</td>\n",
       "      <td>Anti-Sikh</td>\n",
       "      <td>Individual</td>\n",
       "      <td>S</td>\n",
       "      <td>S</td>\n",
       "    </tr>\n",
       "    <tr>\n",
       "      <th>177645</th>\n",
       "      <td>177679</td>\n",
       "      <td>2015</td>\n",
       "      <td>MOKPD0000</td>\n",
       "      <td>Kansas City</td>\n",
       "      <td>NaN</td>\n",
       "      <td>City</td>\n",
       "      <td>MO</td>\n",
       "      <td>Missouri</td>\n",
       "      <td>West North Central</td>\n",
       "      <td>Midwest</td>\n",
       "      <td>...</td>\n",
       "      <td>Unknown</td>\n",
       "      <td>Not Specified</td>\n",
       "      <td>1</td>\n",
       "      <td>Theft From Motor Vehicle</td>\n",
       "      <td>1.0</td>\n",
       "      <td>Rental Storage Facility</td>\n",
       "      <td>Anti-Sikh</td>\n",
       "      <td>Individual</td>\n",
       "      <td>S</td>\n",
       "      <td>S</td>\n",
       "    </tr>\n",
       "    <tr>\n",
       "      <th>177729</th>\n",
       "      <td>177763</td>\n",
       "      <td>2015</td>\n",
       "      <td>MT0250100</td>\n",
       "      <td>Helena</td>\n",
       "      <td>NaN</td>\n",
       "      <td>City</td>\n",
       "      <td>MT</td>\n",
       "      <td>Montana</td>\n",
       "      <td>Mountain</td>\n",
       "      <td>West</td>\n",
       "      <td>...</td>\n",
       "      <td>White</td>\n",
       "      <td>Not Specified</td>\n",
       "      <td>1</td>\n",
       "      <td>Intimidation</td>\n",
       "      <td>1.0</td>\n",
       "      <td>Residence/Home</td>\n",
       "      <td>Anti-Sikh</td>\n",
       "      <td>Individual</td>\n",
       "      <td>S</td>\n",
       "      <td>S</td>\n",
       "    </tr>\n",
       "    <tr>\n",
       "      <th>177730</th>\n",
       "      <td>177764</td>\n",
       "      <td>2015</td>\n",
       "      <td>MT0250100</td>\n",
       "      <td>Helena</td>\n",
       "      <td>NaN</td>\n",
       "      <td>City</td>\n",
       "      <td>MT</td>\n",
       "      <td>Montana</td>\n",
       "      <td>Mountain</td>\n",
       "      <td>West</td>\n",
       "      <td>...</td>\n",
       "      <td>Unknown</td>\n",
       "      <td>Not Specified</td>\n",
       "      <td>1</td>\n",
       "      <td>Destruction/Damage/Vandalism of Property</td>\n",
       "      <td>0.0</td>\n",
       "      <td>Arena/Stadium/Fairgrounds/Coliseum</td>\n",
       "      <td>Anti-Sikh</td>\n",
       "      <td>Business</td>\n",
       "      <td>S</td>\n",
       "      <td>S</td>\n",
       "    </tr>\n",
       "    <tr>\n",
       "      <th>177731</th>\n",
       "      <td>177765</td>\n",
       "      <td>2015</td>\n",
       "      <td>MT0250100</td>\n",
       "      <td>Helena</td>\n",
       "      <td>NaN</td>\n",
       "      <td>City</td>\n",
       "      <td>MT</td>\n",
       "      <td>Montana</td>\n",
       "      <td>Mountain</td>\n",
       "      <td>West</td>\n",
       "      <td>...</td>\n",
       "      <td>White</td>\n",
       "      <td>Not Specified</td>\n",
       "      <td>1</td>\n",
       "      <td>Simple Assault</td>\n",
       "      <td>1.0</td>\n",
       "      <td>Residence/Home</td>\n",
       "      <td>Anti-Sikh</td>\n",
       "      <td>Individual</td>\n",
       "      <td>S</td>\n",
       "      <td>S</td>\n",
       "    </tr>\n",
       "    <tr>\n",
       "      <th>...</th>\n",
       "      <td>...</td>\n",
       "      <td>...</td>\n",
       "      <td>...</td>\n",
       "      <td>...</td>\n",
       "      <td>...</td>\n",
       "      <td>...</td>\n",
       "      <td>...</td>\n",
       "      <td>...</td>\n",
       "      <td>...</td>\n",
       "      <td>...</td>\n",
       "      <td>...</td>\n",
       "      <td>...</td>\n",
       "      <td>...</td>\n",
       "      <td>...</td>\n",
       "      <td>...</td>\n",
       "      <td>...</td>\n",
       "      <td>...</td>\n",
       "      <td>...</td>\n",
       "      <td>...</td>\n",
       "      <td>...</td>\n",
       "      <td>...</td>\n",
       "    </tr>\n",
       "    <tr>\n",
       "      <th>226299</th>\n",
       "      <td>1446657</td>\n",
       "      <td>2021</td>\n",
       "      <td>WV0400000</td>\n",
       "      <td>Putnam</td>\n",
       "      <td>NaN</td>\n",
       "      <td>County</td>\n",
       "      <td>WV</td>\n",
       "      <td>West Virginia</td>\n",
       "      <td>South Atlantic</td>\n",
       "      <td>South</td>\n",
       "      <td>...</td>\n",
       "      <td>White</td>\n",
       "      <td>Not Specified</td>\n",
       "      <td>1</td>\n",
       "      <td>Simple Assault</td>\n",
       "      <td>1.0</td>\n",
       "      <td>Residence/Home</td>\n",
       "      <td>Anti-Sikh</td>\n",
       "      <td>Individual</td>\n",
       "      <td>S</td>\n",
       "      <td>S</td>\n",
       "    </tr>\n",
       "    <tr>\n",
       "      <th>226300</th>\n",
       "      <td>1446662</td>\n",
       "      <td>2021</td>\n",
       "      <td>WV0170200</td>\n",
       "      <td>Clarksburg</td>\n",
       "      <td>NaN</td>\n",
       "      <td>City</td>\n",
       "      <td>WV</td>\n",
       "      <td>West Virginia</td>\n",
       "      <td>South Atlantic</td>\n",
       "      <td>South</td>\n",
       "      <td>...</td>\n",
       "      <td>Not Specified</td>\n",
       "      <td>Not Specified</td>\n",
       "      <td>1</td>\n",
       "      <td>Destruction/Damage/Vandalism of Property</td>\n",
       "      <td>0.0</td>\n",
       "      <td>Highway/Road/Alley/Street/Sidewalk</td>\n",
       "      <td>Anti-Sikh</td>\n",
       "      <td>Government</td>\n",
       "      <td>S</td>\n",
       "      <td>S</td>\n",
       "    </tr>\n",
       "    <tr>\n",
       "      <th>226306</th>\n",
       "      <td>1449499</td>\n",
       "      <td>2021</td>\n",
       "      <td>WV0310100</td>\n",
       "      <td>Morgantown</td>\n",
       "      <td>NaN</td>\n",
       "      <td>City</td>\n",
       "      <td>WV</td>\n",
       "      <td>West Virginia</td>\n",
       "      <td>South Atlantic</td>\n",
       "      <td>South</td>\n",
       "      <td>...</td>\n",
       "      <td>Not Specified</td>\n",
       "      <td>Not Specified</td>\n",
       "      <td>1</td>\n",
       "      <td>False Pretenses/Swindle/Confidence Game</td>\n",
       "      <td>0.0</td>\n",
       "      <td>Department/Discount Store</td>\n",
       "      <td>Anti-Sikh</td>\n",
       "      <td>Business</td>\n",
       "      <td>S</td>\n",
       "      <td>S</td>\n",
       "    </tr>\n",
       "    <tr>\n",
       "      <th>226307</th>\n",
       "      <td>1449500</td>\n",
       "      <td>2021</td>\n",
       "      <td>WV0310100</td>\n",
       "      <td>Morgantown</td>\n",
       "      <td>NaN</td>\n",
       "      <td>City</td>\n",
       "      <td>WV</td>\n",
       "      <td>West Virginia</td>\n",
       "      <td>South Atlantic</td>\n",
       "      <td>South</td>\n",
       "      <td>...</td>\n",
       "      <td>Not Specified</td>\n",
       "      <td>Not Specified</td>\n",
       "      <td>1</td>\n",
       "      <td>Shoplifting</td>\n",
       "      <td>0.0</td>\n",
       "      <td>Service/Gas Station</td>\n",
       "      <td>Anti-Sikh</td>\n",
       "      <td>Business</td>\n",
       "      <td>S</td>\n",
       "      <td>S</td>\n",
       "    </tr>\n",
       "    <tr>\n",
       "      <th>226308</th>\n",
       "      <td>1449502</td>\n",
       "      <td>2021</td>\n",
       "      <td>WV0310100</td>\n",
       "      <td>Morgantown</td>\n",
       "      <td>NaN</td>\n",
       "      <td>City</td>\n",
       "      <td>WV</td>\n",
       "      <td>West Virginia</td>\n",
       "      <td>South Atlantic</td>\n",
       "      <td>South</td>\n",
       "      <td>...</td>\n",
       "      <td>White</td>\n",
       "      <td>Not Specified</td>\n",
       "      <td>1</td>\n",
       "      <td>Rape</td>\n",
       "      <td>1.0</td>\n",
       "      <td>Drug Store/Doctor's Office/Hospital</td>\n",
       "      <td>Anti-Sikh</td>\n",
       "      <td>Individual</td>\n",
       "      <td>S</td>\n",
       "      <td>S</td>\n",
       "    </tr>\n",
       "  </tbody>\n",
       "</table>\n",
       "<p>440 rows × 28 columns</p>\n",
       "</div>"
      ],
      "text/plain": [
       "        incident_id  data_year        ori pug_agency_name pub_agency_unit  \\\n",
       "176034       176080       2015  DCMPD0000      Washington             NaN   \n",
       "177645       177679       2015  MOKPD0000     Kansas City             NaN   \n",
       "177729       177763       2015  MT0250100          Helena             NaN   \n",
       "177730       177764       2015  MT0250100          Helena             NaN   \n",
       "177731       177765       2015  MT0250100          Helena             NaN   \n",
       "...             ...        ...        ...             ...             ...   \n",
       "226299      1446657       2021  WV0400000          Putnam             NaN   \n",
       "226300      1446662       2021  WV0170200      Clarksburg             NaN   \n",
       "226306      1449499       2021  WV0310100      Morgantown             NaN   \n",
       "226307      1449500       2021  WV0310100      Morgantown             NaN   \n",
       "226308      1449502       2021  WV0310100      Morgantown             NaN   \n",
       "\n",
       "       agency_type_name state_abbr            state_name       division_name  \\\n",
       "176034             City         DC  District of Columbia      South Atlantic   \n",
       "177645             City         MO              Missouri  West North Central   \n",
       "177729             City         MT               Montana            Mountain   \n",
       "177730             City         MT               Montana            Mountain   \n",
       "177731             City         MT               Montana            Mountain   \n",
       "...                 ...        ...                   ...                 ...   \n",
       "226299           County         WV         West Virginia      South Atlantic   \n",
       "226300             City         WV         West Virginia      South Atlantic   \n",
       "226306             City         WV         West Virginia      South Atlantic   \n",
       "226307             City         WV         West Virginia      South Atlantic   \n",
       "226308             City         WV         West Virginia      South Atlantic   \n",
       "\n",
       "       region_name  ...  offender_race offender_ethnicity victim_count  \\\n",
       "176034       South  ...       Multiple      Not Specified            1   \n",
       "177645     Midwest  ...        Unknown      Not Specified            1   \n",
       "177729        West  ...          White      Not Specified            1   \n",
       "177730        West  ...        Unknown      Not Specified            1   \n",
       "177731        West  ...          White      Not Specified            1   \n",
       "...            ...  ...            ...                ...          ...   \n",
       "226299       South  ...          White      Not Specified            1   \n",
       "226300       South  ...  Not Specified      Not Specified            1   \n",
       "226306       South  ...  Not Specified      Not Specified            1   \n",
       "226307       South  ...  Not Specified      Not Specified            1   \n",
       "226308       South  ...          White      Not Specified            1   \n",
       "\n",
       "                                    offense_name  total_individual_victims  \\\n",
       "176034  Destruction/Damage/Vandalism of Property                       1.0   \n",
       "177645                  Theft From Motor Vehicle                       1.0   \n",
       "177729                              Intimidation                       1.0   \n",
       "177730  Destruction/Damage/Vandalism of Property                       0.0   \n",
       "177731                            Simple Assault                       1.0   \n",
       "...                                          ...                       ...   \n",
       "226299                            Simple Assault                       1.0   \n",
       "226300  Destruction/Damage/Vandalism of Property                       0.0   \n",
       "226306   False Pretenses/Swindle/Confidence Game                       0.0   \n",
       "226307                               Shoplifting                       0.0   \n",
       "226308                                      Rape                       1.0   \n",
       "\n",
       "                              location_name  bias_desc  victim_types  \\\n",
       "176034                    Convenience Store  Anti-Sikh    Individual   \n",
       "177645              Rental Storage Facility  Anti-Sikh    Individual   \n",
       "177729                       Residence/Home  Anti-Sikh    Individual   \n",
       "177730   Arena/Stadium/Fairgrounds/Coliseum  Anti-Sikh      Business   \n",
       "177731                       Residence/Home  Anti-Sikh    Individual   \n",
       "...                                     ...        ...           ...   \n",
       "226299                       Residence/Home  Anti-Sikh    Individual   \n",
       "226300   Highway/Road/Alley/Street/Sidewalk  Anti-Sikh    Government   \n",
       "226306            Department/Discount Store  Anti-Sikh      Business   \n",
       "226307                  Service/Gas Station  Anti-Sikh      Business   \n",
       "226308  Drug Store/Doctor's Office/Hospital  Anti-Sikh    Individual   \n",
       "\n",
       "       multiple_offense multiple_bias  \n",
       "176034                S             S  \n",
       "177645                S             S  \n",
       "177729                S             S  \n",
       "177730                S             S  \n",
       "177731                S             S  \n",
       "...                 ...           ...  \n",
       "226299                S             S  \n",
       "226300                S             S  \n",
       "226306                S             S  \n",
       "226307                S             S  \n",
       "226308                S             S  \n",
       "\n",
       "[440 rows x 28 columns]"
      ]
     },
     "execution_count": 40,
     "metadata": {},
     "output_type": "execute_result"
    }
   ],
   "source": [
    "df_sikh = df[df['bias_desc'] == 'Anti-Sikh']\n",
    "df_sikh"
   ]
  },
  {
   "cell_type": "code",
   "execution_count": 28,
   "id": "a8028a90-8a68-4641-817d-7d5e38522153",
   "metadata": {},
   "outputs": [
    {
     "data": {
      "text/plain": [
       "North Carolina          57\n",
       "Ohio                    46\n",
       "West Virginia           46\n",
       "Alabama                 44\n",
       "Texas                   43\n",
       "South Carolina          25\n",
       "Georgia                 20\n",
       "Washington              19\n",
       "Michigan                14\n",
       "Tennessee               13\n",
       "Kansas                  13\n",
       "Missouri                12\n",
       "Utah                    10\n",
       "California              10\n",
       "Louisiana                9\n",
       "Indiana                  8\n",
       "Montana                  8\n",
       "Wisconsin                6\n",
       "Vermont                  5\n",
       "Minnesota                4\n",
       "Nevada                   4\n",
       "Colorado                 3\n",
       "Illinois                 3\n",
       "New Mexico               3\n",
       "Arizona                  2\n",
       "Iowa                     2\n",
       "South Dakota             2\n",
       "Virginia                 2\n",
       "Nebraska                 1\n",
       "Oklahoma                 1\n",
       "Arkansas                 1\n",
       "Idaho                    1\n",
       "North Dakota             1\n",
       "Pennsylvania             1\n",
       "District of Columbia     1\n",
       "Name: state_name, dtype: int64"
      ]
     },
     "execution_count": 28,
     "metadata": {},
     "output_type": "execute_result"
    }
   ],
   "source": [
    "df_sikh['state_name'].value_counts()"
   ]
  },
  {
   "cell_type": "code",
   "execution_count": 30,
   "id": "fb1973d6-35a0-415e-a03a-f22fb3465ce6",
   "metadata": {},
   "outputs": [
    {
     "data": {
      "text/plain": [
       "incident_id                       0\n",
       "data_year                         0\n",
       "ori                               0\n",
       "pug_agency_name                   0\n",
       "pub_agency_unit                 426\n",
       "agency_type_name                  0\n",
       "state_abbr                        0\n",
       "state_name                        0\n",
       "division_name                     0\n",
       "region_name                       0\n",
       "population_group_code             0\n",
       "population_group_description      0\n",
       "incident_date                     0\n",
       "adult_victim_count                9\n",
       "juvenile_victim_count            11\n",
       "total_offender_count              0\n",
       "adult_offender_count            132\n",
       "juvenile_offender_count         132\n",
       "offender_race                     0\n",
       "offender_ethnicity                0\n",
       "victim_count                      0\n",
       "offense_name                      0\n",
       "total_individual_victims          2\n",
       "location_name                     0\n",
       "bias_desc                         0\n",
       "victim_types                      0\n",
       "multiple_offense                  0\n",
       "multiple_bias                     0\n",
       "dtype: int64"
      ]
     },
     "execution_count": 30,
     "metadata": {},
     "output_type": "execute_result"
    }
   ],
   "source": [
    "nan_counts = df_sikh.isna().sum()\n",
    "nan_counts "
   ]
  },
  {
   "cell_type": "code",
   "execution_count": 43,
   "id": "0c6298d7-9516-4586-94d8-70bc59385f24",
   "metadata": {},
   "outputs": [
    {
     "name": "stdout",
     "output_type": "stream",
     "text": [
      "        incident_id  data_year        ori  \\\n",
      "206496       789292       2019  NV0020100   \n",
      "217620       859180       2020  TX1080900   \n",
      "\n",
      "                                 pug_agency_name agency_type_name state_abbr  \\\n",
      "206496  Las Vegas Metropolitan Police Department             City         NV   \n",
      "217620                                  Mercedes             City         TX   \n",
      "\n",
      "       state_name       division_name region_name population_group_code  ...  \\\n",
      "206496     Nevada            Mountain        West                    1A  ...   \n",
      "217620      Texas  West South Central       South                     5  ...   \n",
      "\n",
      "       offender_race  offender_ethnicity  victim_count   offense_name  \\\n",
      "206496       Unknown             Unknown             1          Arson   \n",
      "217620         White  Hispanic or Latino             1  Not Specified   \n",
      "\n",
      "       total_individual_victims                   location_name  bias_desc  \\\n",
      "206496                      NaN  Church/Synagogue/Temple/Mosque  Anti-Sikh   \n",
      "217620                      NaN             Grocery/Supermarket  Anti-Sikh   \n",
      "\n",
      "                  victim_types multiple_offense multiple_bias  \n",
      "206496  Religious Organization                S             S  \n",
      "217620                Business                S             S  \n",
      "\n",
      "[2 rows x 23 columns]\n"
     ]
    }
   ],
   "source": [
    "print(df_sikh[df_sikh['total_individual_victims'].isna() == True])"
   ]
  },
  {
   "cell_type": "code",
   "execution_count": 41,
   "id": "636022ad-31bc-493b-9fa9-cd3d082e76ad",
   "metadata": {},
   "outputs": [
    {
     "data": {
      "text/html": [
       "<div>\n",
       "<style scoped>\n",
       "    .dataframe tbody tr th:only-of-type {\n",
       "        vertical-align: middle;\n",
       "    }\n",
       "\n",
       "    .dataframe tbody tr th {\n",
       "        vertical-align: top;\n",
       "    }\n",
       "\n",
       "    .dataframe thead th {\n",
       "        text-align: right;\n",
       "    }\n",
       "</style>\n",
       "<table border=\"1\" class=\"dataframe\">\n",
       "  <thead>\n",
       "    <tr style=\"text-align: right;\">\n",
       "      <th></th>\n",
       "      <th>incident_id</th>\n",
       "      <th>data_year</th>\n",
       "      <th>ori</th>\n",
       "      <th>pug_agency_name</th>\n",
       "      <th>agency_type_name</th>\n",
       "      <th>state_abbr</th>\n",
       "      <th>state_name</th>\n",
       "      <th>division_name</th>\n",
       "      <th>region_name</th>\n",
       "      <th>population_group_code</th>\n",
       "      <th>...</th>\n",
       "      <th>offender_race</th>\n",
       "      <th>offender_ethnicity</th>\n",
       "      <th>victim_count</th>\n",
       "      <th>offense_name</th>\n",
       "      <th>total_individual_victims</th>\n",
       "      <th>location_name</th>\n",
       "      <th>bias_desc</th>\n",
       "      <th>victim_types</th>\n",
       "      <th>multiple_offense</th>\n",
       "      <th>multiple_bias</th>\n",
       "    </tr>\n",
       "  </thead>\n",
       "  <tbody>\n",
       "    <tr>\n",
       "      <th>176034</th>\n",
       "      <td>176080</td>\n",
       "      <td>2015</td>\n",
       "      <td>DCMPD0000</td>\n",
       "      <td>Washington</td>\n",
       "      <td>City</td>\n",
       "      <td>DC</td>\n",
       "      <td>District of Columbia</td>\n",
       "      <td>South Atlantic</td>\n",
       "      <td>South</td>\n",
       "      <td>1B</td>\n",
       "      <td>...</td>\n",
       "      <td>Multiple</td>\n",
       "      <td>Not Specified</td>\n",
       "      <td>1</td>\n",
       "      <td>Destruction/Damage/Vandalism of Property</td>\n",
       "      <td>1.0</td>\n",
       "      <td>Convenience Store</td>\n",
       "      <td>Anti-Sikh</td>\n",
       "      <td>Individual</td>\n",
       "      <td>S</td>\n",
       "      <td>S</td>\n",
       "    </tr>\n",
       "    <tr>\n",
       "      <th>177645</th>\n",
       "      <td>177679</td>\n",
       "      <td>2015</td>\n",
       "      <td>MOKPD0000</td>\n",
       "      <td>Kansas City</td>\n",
       "      <td>City</td>\n",
       "      <td>MO</td>\n",
       "      <td>Missouri</td>\n",
       "      <td>West North Central</td>\n",
       "      <td>Midwest</td>\n",
       "      <td>1C</td>\n",
       "      <td>...</td>\n",
       "      <td>Unknown</td>\n",
       "      <td>Not Specified</td>\n",
       "      <td>1</td>\n",
       "      <td>Theft From Motor Vehicle</td>\n",
       "      <td>1.0</td>\n",
       "      <td>Rental Storage Facility</td>\n",
       "      <td>Anti-Sikh</td>\n",
       "      <td>Individual</td>\n",
       "      <td>S</td>\n",
       "      <td>S</td>\n",
       "    </tr>\n",
       "    <tr>\n",
       "      <th>177729</th>\n",
       "      <td>177763</td>\n",
       "      <td>2015</td>\n",
       "      <td>MT0250100</td>\n",
       "      <td>Helena</td>\n",
       "      <td>City</td>\n",
       "      <td>MT</td>\n",
       "      <td>Montana</td>\n",
       "      <td>Mountain</td>\n",
       "      <td>West</td>\n",
       "      <td>4</td>\n",
       "      <td>...</td>\n",
       "      <td>White</td>\n",
       "      <td>Not Specified</td>\n",
       "      <td>1</td>\n",
       "      <td>Intimidation</td>\n",
       "      <td>1.0</td>\n",
       "      <td>Residence/Home</td>\n",
       "      <td>Anti-Sikh</td>\n",
       "      <td>Individual</td>\n",
       "      <td>S</td>\n",
       "      <td>S</td>\n",
       "    </tr>\n",
       "    <tr>\n",
       "      <th>177730</th>\n",
       "      <td>177764</td>\n",
       "      <td>2015</td>\n",
       "      <td>MT0250100</td>\n",
       "      <td>Helena</td>\n",
       "      <td>City</td>\n",
       "      <td>MT</td>\n",
       "      <td>Montana</td>\n",
       "      <td>Mountain</td>\n",
       "      <td>West</td>\n",
       "      <td>4</td>\n",
       "      <td>...</td>\n",
       "      <td>Unknown</td>\n",
       "      <td>Not Specified</td>\n",
       "      <td>1</td>\n",
       "      <td>Destruction/Damage/Vandalism of Property</td>\n",
       "      <td>0.0</td>\n",
       "      <td>Arena/Stadium/Fairgrounds/Coliseum</td>\n",
       "      <td>Anti-Sikh</td>\n",
       "      <td>Business</td>\n",
       "      <td>S</td>\n",
       "      <td>S</td>\n",
       "    </tr>\n",
       "    <tr>\n",
       "      <th>177731</th>\n",
       "      <td>177765</td>\n",
       "      <td>2015</td>\n",
       "      <td>MT0250100</td>\n",
       "      <td>Helena</td>\n",
       "      <td>City</td>\n",
       "      <td>MT</td>\n",
       "      <td>Montana</td>\n",
       "      <td>Mountain</td>\n",
       "      <td>West</td>\n",
       "      <td>4</td>\n",
       "      <td>...</td>\n",
       "      <td>White</td>\n",
       "      <td>Not Specified</td>\n",
       "      <td>1</td>\n",
       "      <td>Simple Assault</td>\n",
       "      <td>1.0</td>\n",
       "      <td>Residence/Home</td>\n",
       "      <td>Anti-Sikh</td>\n",
       "      <td>Individual</td>\n",
       "      <td>S</td>\n",
       "      <td>S</td>\n",
       "    </tr>\n",
       "    <tr>\n",
       "      <th>...</th>\n",
       "      <td>...</td>\n",
       "      <td>...</td>\n",
       "      <td>...</td>\n",
       "      <td>...</td>\n",
       "      <td>...</td>\n",
       "      <td>...</td>\n",
       "      <td>...</td>\n",
       "      <td>...</td>\n",
       "      <td>...</td>\n",
       "      <td>...</td>\n",
       "      <td>...</td>\n",
       "      <td>...</td>\n",
       "      <td>...</td>\n",
       "      <td>...</td>\n",
       "      <td>...</td>\n",
       "      <td>...</td>\n",
       "      <td>...</td>\n",
       "      <td>...</td>\n",
       "      <td>...</td>\n",
       "      <td>...</td>\n",
       "      <td>...</td>\n",
       "    </tr>\n",
       "    <tr>\n",
       "      <th>226299</th>\n",
       "      <td>1446657</td>\n",
       "      <td>2021</td>\n",
       "      <td>WV0400000</td>\n",
       "      <td>Putnam</td>\n",
       "      <td>County</td>\n",
       "      <td>WV</td>\n",
       "      <td>West Virginia</td>\n",
       "      <td>South Atlantic</td>\n",
       "      <td>South</td>\n",
       "      <td>9B</td>\n",
       "      <td>...</td>\n",
       "      <td>White</td>\n",
       "      <td>Not Specified</td>\n",
       "      <td>1</td>\n",
       "      <td>Simple Assault</td>\n",
       "      <td>1.0</td>\n",
       "      <td>Residence/Home</td>\n",
       "      <td>Anti-Sikh</td>\n",
       "      <td>Individual</td>\n",
       "      <td>S</td>\n",
       "      <td>S</td>\n",
       "    </tr>\n",
       "    <tr>\n",
       "      <th>226300</th>\n",
       "      <td>1446662</td>\n",
       "      <td>2021</td>\n",
       "      <td>WV0170200</td>\n",
       "      <td>Clarksburg</td>\n",
       "      <td>City</td>\n",
       "      <td>WV</td>\n",
       "      <td>West Virginia</td>\n",
       "      <td>South Atlantic</td>\n",
       "      <td>South</td>\n",
       "      <td>5</td>\n",
       "      <td>...</td>\n",
       "      <td>Not Specified</td>\n",
       "      <td>Not Specified</td>\n",
       "      <td>1</td>\n",
       "      <td>Destruction/Damage/Vandalism of Property</td>\n",
       "      <td>0.0</td>\n",
       "      <td>Highway/Road/Alley/Street/Sidewalk</td>\n",
       "      <td>Anti-Sikh</td>\n",
       "      <td>Government</td>\n",
       "      <td>S</td>\n",
       "      <td>S</td>\n",
       "    </tr>\n",
       "    <tr>\n",
       "      <th>226306</th>\n",
       "      <td>1449499</td>\n",
       "      <td>2021</td>\n",
       "      <td>WV0310100</td>\n",
       "      <td>Morgantown</td>\n",
       "      <td>City</td>\n",
       "      <td>WV</td>\n",
       "      <td>West Virginia</td>\n",
       "      <td>South Atlantic</td>\n",
       "      <td>South</td>\n",
       "      <td>4</td>\n",
       "      <td>...</td>\n",
       "      <td>Not Specified</td>\n",
       "      <td>Not Specified</td>\n",
       "      <td>1</td>\n",
       "      <td>False Pretenses/Swindle/Confidence Game</td>\n",
       "      <td>0.0</td>\n",
       "      <td>Department/Discount Store</td>\n",
       "      <td>Anti-Sikh</td>\n",
       "      <td>Business</td>\n",
       "      <td>S</td>\n",
       "      <td>S</td>\n",
       "    </tr>\n",
       "    <tr>\n",
       "      <th>226307</th>\n",
       "      <td>1449500</td>\n",
       "      <td>2021</td>\n",
       "      <td>WV0310100</td>\n",
       "      <td>Morgantown</td>\n",
       "      <td>City</td>\n",
       "      <td>WV</td>\n",
       "      <td>West Virginia</td>\n",
       "      <td>South Atlantic</td>\n",
       "      <td>South</td>\n",
       "      <td>4</td>\n",
       "      <td>...</td>\n",
       "      <td>Not Specified</td>\n",
       "      <td>Not Specified</td>\n",
       "      <td>1</td>\n",
       "      <td>Shoplifting</td>\n",
       "      <td>0.0</td>\n",
       "      <td>Service/Gas Station</td>\n",
       "      <td>Anti-Sikh</td>\n",
       "      <td>Business</td>\n",
       "      <td>S</td>\n",
       "      <td>S</td>\n",
       "    </tr>\n",
       "    <tr>\n",
       "      <th>226308</th>\n",
       "      <td>1449502</td>\n",
       "      <td>2021</td>\n",
       "      <td>WV0310100</td>\n",
       "      <td>Morgantown</td>\n",
       "      <td>City</td>\n",
       "      <td>WV</td>\n",
       "      <td>West Virginia</td>\n",
       "      <td>South Atlantic</td>\n",
       "      <td>South</td>\n",
       "      <td>4</td>\n",
       "      <td>...</td>\n",
       "      <td>White</td>\n",
       "      <td>Not Specified</td>\n",
       "      <td>1</td>\n",
       "      <td>Rape</td>\n",
       "      <td>1.0</td>\n",
       "      <td>Drug Store/Doctor's Office/Hospital</td>\n",
       "      <td>Anti-Sikh</td>\n",
       "      <td>Individual</td>\n",
       "      <td>S</td>\n",
       "      <td>S</td>\n",
       "    </tr>\n",
       "  </tbody>\n",
       "</table>\n",
       "<p>440 rows × 23 columns</p>\n",
       "</div>"
      ],
      "text/plain": [
       "        incident_id  data_year        ori pug_agency_name agency_type_name  \\\n",
       "176034       176080       2015  DCMPD0000      Washington             City   \n",
       "177645       177679       2015  MOKPD0000     Kansas City             City   \n",
       "177729       177763       2015  MT0250100          Helena             City   \n",
       "177730       177764       2015  MT0250100          Helena             City   \n",
       "177731       177765       2015  MT0250100          Helena             City   \n",
       "...             ...        ...        ...             ...              ...   \n",
       "226299      1446657       2021  WV0400000          Putnam           County   \n",
       "226300      1446662       2021  WV0170200      Clarksburg             City   \n",
       "226306      1449499       2021  WV0310100      Morgantown             City   \n",
       "226307      1449500       2021  WV0310100      Morgantown             City   \n",
       "226308      1449502       2021  WV0310100      Morgantown             City   \n",
       "\n",
       "       state_abbr            state_name       division_name region_name  \\\n",
       "176034         DC  District of Columbia      South Atlantic       South   \n",
       "177645         MO              Missouri  West North Central     Midwest   \n",
       "177729         MT               Montana            Mountain        West   \n",
       "177730         MT               Montana            Mountain        West   \n",
       "177731         MT               Montana            Mountain        West   \n",
       "...           ...                   ...                 ...         ...   \n",
       "226299         WV         West Virginia      South Atlantic       South   \n",
       "226300         WV         West Virginia      South Atlantic       South   \n",
       "226306         WV         West Virginia      South Atlantic       South   \n",
       "226307         WV         West Virginia      South Atlantic       South   \n",
       "226308         WV         West Virginia      South Atlantic       South   \n",
       "\n",
       "       population_group_code  ...  offender_race offender_ethnicity  \\\n",
       "176034                    1B  ...       Multiple      Not Specified   \n",
       "177645                    1C  ...        Unknown      Not Specified   \n",
       "177729                     4  ...          White      Not Specified   \n",
       "177730                     4  ...        Unknown      Not Specified   \n",
       "177731                     4  ...          White      Not Specified   \n",
       "...                      ...  ...            ...                ...   \n",
       "226299                    9B  ...          White      Not Specified   \n",
       "226300                     5  ...  Not Specified      Not Specified   \n",
       "226306                     4  ...  Not Specified      Not Specified   \n",
       "226307                     4  ...  Not Specified      Not Specified   \n",
       "226308                     4  ...          White      Not Specified   \n",
       "\n",
       "        victim_count                              offense_name  \\\n",
       "176034             1  Destruction/Damage/Vandalism of Property   \n",
       "177645             1                  Theft From Motor Vehicle   \n",
       "177729             1                              Intimidation   \n",
       "177730             1  Destruction/Damage/Vandalism of Property   \n",
       "177731             1                            Simple Assault   \n",
       "...              ...                                       ...   \n",
       "226299             1                            Simple Assault   \n",
       "226300             1  Destruction/Damage/Vandalism of Property   \n",
       "226306             1   False Pretenses/Swindle/Confidence Game   \n",
       "226307             1                               Shoplifting   \n",
       "226308             1                                      Rape   \n",
       "\n",
       "       total_individual_victims                        location_name  \\\n",
       "176034                      1.0                    Convenience Store   \n",
       "177645                      1.0              Rental Storage Facility   \n",
       "177729                      1.0                       Residence/Home   \n",
       "177730                      0.0   Arena/Stadium/Fairgrounds/Coliseum   \n",
       "177731                      1.0                       Residence/Home   \n",
       "...                         ...                                  ...   \n",
       "226299                      1.0                       Residence/Home   \n",
       "226300                      0.0   Highway/Road/Alley/Street/Sidewalk   \n",
       "226306                      0.0            Department/Discount Store   \n",
       "226307                      0.0                  Service/Gas Station   \n",
       "226308                      1.0  Drug Store/Doctor's Office/Hospital   \n",
       "\n",
       "        bias_desc  victim_types multiple_offense multiple_bias  \n",
       "176034  Anti-Sikh    Individual                S             S  \n",
       "177645  Anti-Sikh    Individual                S             S  \n",
       "177729  Anti-Sikh    Individual                S             S  \n",
       "177730  Anti-Sikh      Business                S             S  \n",
       "177731  Anti-Sikh    Individual                S             S  \n",
       "...           ...           ...              ...           ...  \n",
       "226299  Anti-Sikh    Individual                S             S  \n",
       "226300  Anti-Sikh    Government                S             S  \n",
       "226306  Anti-Sikh      Business                S             S  \n",
       "226307  Anti-Sikh      Business                S             S  \n",
       "226308  Anti-Sikh    Individual                S             S  \n",
       "\n",
       "[440 rows x 23 columns]"
      ]
     },
     "execution_count": 41,
     "metadata": {},
     "output_type": "execute_result"
    }
   ],
   "source": [
    "df_sikh = df_sikh.drop(['pub_agency_unit', 'adult_offender_count', 'juvenile_offender_count', \n",
    "                        'juvenile_victim_count','adult_victim_count' ], axis=1)\n",
    "df_sikh"
   ]
  },
  {
   "cell_type": "code",
   "execution_count": 49,
   "id": "2b99a64b-65bc-4346-98dd-55b19389e709",
   "metadata": {},
   "outputs": [],
   "source": [
    "df_sikh\n",
    "df_sikh.to_csv('FBI_Hate_Crimes_Anti-Sikh.csv', index=False)"
   ]
  },
  {
   "cell_type": "code",
   "execution_count": 48,
   "id": "6f09f7e0-3849-4034-8468-e9d800eeb4ed",
   "metadata": {},
   "outputs": [
    {
     "data": {
      "application/vnd.plotly.v1+json": {
       "config": {
        "plotlyServerURL": "https://plot.ly"
       },
       "data": [
        {
         "colorbar": {
          "title": {
           "text": "VICTIM COUNT"
          }
         },
         "colorscale": [
          [
           0,
           "rgb(253, 224, 197)"
          ],
          [
           0.16666666666666666,
           "rgb(250, 203, 166)"
          ],
          [
           0.3333333333333333,
           "rgb(248, 181, 139)"
          ],
          [
           0.5,
           "rgb(245, 158, 114)"
          ],
          [
           0.6666666666666666,
           "rgb(242, 133, 93)"
          ],
          [
           0.8333333333333334,
           "rgb(239, 106, 76)"
          ],
          [
           1,
           "rgb(235, 74, 64)"
          ]
         ],
         "locationmode": "USA-states",
         "locations": [
          "AL",
          "AR",
          "AZ",
          "CA",
          "CO",
          "DC",
          "GA",
          "IA",
          "ID",
          "IL",
          "IN",
          "KS",
          "LA",
          "MI",
          "MN",
          "MO",
          "MT",
          "NB",
          "NC",
          "ND",
          "NM",
          "NV",
          "OH",
          "OK",
          "PA",
          "SC",
          "SD",
          "TN",
          "TX",
          "UT",
          "VA",
          "VT",
          "WA",
          "WI",
          "WV"
         ],
         "type": "choropleth",
         "z": [
          44,
          1,
          2,
          10,
          3,
          1,
          20,
          2,
          1,
          3,
          8,
          13,
          9,
          14,
          4,
          12,
          8,
          1,
          57,
          1,
          3,
          4,
          46,
          1,
          1,
          25,
          2,
          13,
          43,
          10,
          2,
          5,
          19,
          6,
          46
         ]
        }
       ],
       "layout": {
        "autosize": true,
        "geo": {
         "scope": "usa"
        },
        "template": {
         "data": {
          "bar": [
           {
            "error_x": {
             "color": "#2a3f5f"
            },
            "error_y": {
             "color": "#2a3f5f"
            },
            "marker": {
             "line": {
              "color": "#E5ECF6",
              "width": 0.5
             },
             "pattern": {
              "fillmode": "overlay",
              "size": 10,
              "solidity": 0.2
             }
            },
            "type": "bar"
           }
          ],
          "barpolar": [
           {
            "marker": {
             "line": {
              "color": "#E5ECF6",
              "width": 0.5
             },
             "pattern": {
              "fillmode": "overlay",
              "size": 10,
              "solidity": 0.2
             }
            },
            "type": "barpolar"
           }
          ],
          "carpet": [
           {
            "aaxis": {
             "endlinecolor": "#2a3f5f",
             "gridcolor": "white",
             "linecolor": "white",
             "minorgridcolor": "white",
             "startlinecolor": "#2a3f5f"
            },
            "baxis": {
             "endlinecolor": "#2a3f5f",
             "gridcolor": "white",
             "linecolor": "white",
             "minorgridcolor": "white",
             "startlinecolor": "#2a3f5f"
            },
            "type": "carpet"
           }
          ],
          "choropleth": [
           {
            "colorbar": {
             "outlinewidth": 0,
             "ticks": ""
            },
            "type": "choropleth"
           }
          ],
          "contour": [
           {
            "colorbar": {
             "outlinewidth": 0,
             "ticks": ""
            },
            "colorscale": [
             [
              0,
              "#0d0887"
             ],
             [
              0.1111111111111111,
              "#46039f"
             ],
             [
              0.2222222222222222,
              "#7201a8"
             ],
             [
              0.3333333333333333,
              "#9c179e"
             ],
             [
              0.4444444444444444,
              "#bd3786"
             ],
             [
              0.5555555555555556,
              "#d8576b"
             ],
             [
              0.6666666666666666,
              "#ed7953"
             ],
             [
              0.7777777777777778,
              "#fb9f3a"
             ],
             [
              0.8888888888888888,
              "#fdca26"
             ],
             [
              1,
              "#f0f921"
             ]
            ],
            "type": "contour"
           }
          ],
          "contourcarpet": [
           {
            "colorbar": {
             "outlinewidth": 0,
             "ticks": ""
            },
            "type": "contourcarpet"
           }
          ],
          "heatmap": [
           {
            "colorbar": {
             "outlinewidth": 0,
             "ticks": ""
            },
            "colorscale": [
             [
              0,
              "#0d0887"
             ],
             [
              0.1111111111111111,
              "#46039f"
             ],
             [
              0.2222222222222222,
              "#7201a8"
             ],
             [
              0.3333333333333333,
              "#9c179e"
             ],
             [
              0.4444444444444444,
              "#bd3786"
             ],
             [
              0.5555555555555556,
              "#d8576b"
             ],
             [
              0.6666666666666666,
              "#ed7953"
             ],
             [
              0.7777777777777778,
              "#fb9f3a"
             ],
             [
              0.8888888888888888,
              "#fdca26"
             ],
             [
              1,
              "#f0f921"
             ]
            ],
            "type": "heatmap"
           }
          ],
          "heatmapgl": [
           {
            "colorbar": {
             "outlinewidth": 0,
             "ticks": ""
            },
            "colorscale": [
             [
              0,
              "#0d0887"
             ],
             [
              0.1111111111111111,
              "#46039f"
             ],
             [
              0.2222222222222222,
              "#7201a8"
             ],
             [
              0.3333333333333333,
              "#9c179e"
             ],
             [
              0.4444444444444444,
              "#bd3786"
             ],
             [
              0.5555555555555556,
              "#d8576b"
             ],
             [
              0.6666666666666666,
              "#ed7953"
             ],
             [
              0.7777777777777778,
              "#fb9f3a"
             ],
             [
              0.8888888888888888,
              "#fdca26"
             ],
             [
              1,
              "#f0f921"
             ]
            ],
            "type": "heatmapgl"
           }
          ],
          "histogram": [
           {
            "marker": {
             "pattern": {
              "fillmode": "overlay",
              "size": 10,
              "solidity": 0.2
             }
            },
            "type": "histogram"
           }
          ],
          "histogram2d": [
           {
            "colorbar": {
             "outlinewidth": 0,
             "ticks": ""
            },
            "colorscale": [
             [
              0,
              "#0d0887"
             ],
             [
              0.1111111111111111,
              "#46039f"
             ],
             [
              0.2222222222222222,
              "#7201a8"
             ],
             [
              0.3333333333333333,
              "#9c179e"
             ],
             [
              0.4444444444444444,
              "#bd3786"
             ],
             [
              0.5555555555555556,
              "#d8576b"
             ],
             [
              0.6666666666666666,
              "#ed7953"
             ],
             [
              0.7777777777777778,
              "#fb9f3a"
             ],
             [
              0.8888888888888888,
              "#fdca26"
             ],
             [
              1,
              "#f0f921"
             ]
            ],
            "type": "histogram2d"
           }
          ],
          "histogram2dcontour": [
           {
            "colorbar": {
             "outlinewidth": 0,
             "ticks": ""
            },
            "colorscale": [
             [
              0,
              "#0d0887"
             ],
             [
              0.1111111111111111,
              "#46039f"
             ],
             [
              0.2222222222222222,
              "#7201a8"
             ],
             [
              0.3333333333333333,
              "#9c179e"
             ],
             [
              0.4444444444444444,
              "#bd3786"
             ],
             [
              0.5555555555555556,
              "#d8576b"
             ],
             [
              0.6666666666666666,
              "#ed7953"
             ],
             [
              0.7777777777777778,
              "#fb9f3a"
             ],
             [
              0.8888888888888888,
              "#fdca26"
             ],
             [
              1,
              "#f0f921"
             ]
            ],
            "type": "histogram2dcontour"
           }
          ],
          "mesh3d": [
           {
            "colorbar": {
             "outlinewidth": 0,
             "ticks": ""
            },
            "type": "mesh3d"
           }
          ],
          "parcoords": [
           {
            "line": {
             "colorbar": {
              "outlinewidth": 0,
              "ticks": ""
             }
            },
            "type": "parcoords"
           }
          ],
          "pie": [
           {
            "automargin": true,
            "type": "pie"
           }
          ],
          "scatter": [
           {
            "fillpattern": {
             "fillmode": "overlay",
             "size": 10,
             "solidity": 0.2
            },
            "type": "scatter"
           }
          ],
          "scatter3d": [
           {
            "line": {
             "colorbar": {
              "outlinewidth": 0,
              "ticks": ""
             }
            },
            "marker": {
             "colorbar": {
              "outlinewidth": 0,
              "ticks": ""
             }
            },
            "type": "scatter3d"
           }
          ],
          "scattercarpet": [
           {
            "marker": {
             "colorbar": {
              "outlinewidth": 0,
              "ticks": ""
             }
            },
            "type": "scattercarpet"
           }
          ],
          "scattergeo": [
           {
            "marker": {
             "colorbar": {
              "outlinewidth": 0,
              "ticks": ""
             }
            },
            "type": "scattergeo"
           }
          ],
          "scattergl": [
           {
            "marker": {
             "colorbar": {
              "outlinewidth": 0,
              "ticks": ""
             }
            },
            "type": "scattergl"
           }
          ],
          "scattermapbox": [
           {
            "marker": {
             "colorbar": {
              "outlinewidth": 0,
              "ticks": ""
             }
            },
            "type": "scattermapbox"
           }
          ],
          "scatterpolar": [
           {
            "marker": {
             "colorbar": {
              "outlinewidth": 0,
              "ticks": ""
             }
            },
            "type": "scatterpolar"
           }
          ],
          "scatterpolargl": [
           {
            "marker": {
             "colorbar": {
              "outlinewidth": 0,
              "ticks": ""
             }
            },
            "type": "scatterpolargl"
           }
          ],
          "scatterternary": [
           {
            "marker": {
             "colorbar": {
              "outlinewidth": 0,
              "ticks": ""
             }
            },
            "type": "scatterternary"
           }
          ],
          "surface": [
           {
            "colorbar": {
             "outlinewidth": 0,
             "ticks": ""
            },
            "colorscale": [
             [
              0,
              "#0d0887"
             ],
             [
              0.1111111111111111,
              "#46039f"
             ],
             [
              0.2222222222222222,
              "#7201a8"
             ],
             [
              0.3333333333333333,
              "#9c179e"
             ],
             [
              0.4444444444444444,
              "#bd3786"
             ],
             [
              0.5555555555555556,
              "#d8576b"
             ],
             [
              0.6666666666666666,
              "#ed7953"
             ],
             [
              0.7777777777777778,
              "#fb9f3a"
             ],
             [
              0.8888888888888888,
              "#fdca26"
             ],
             [
              1,
              "#f0f921"
             ]
            ],
            "type": "surface"
           }
          ],
          "table": [
           {
            "cells": {
             "fill": {
              "color": "#EBF0F8"
             },
             "line": {
              "color": "white"
             }
            },
            "header": {
             "fill": {
              "color": "#C8D4E3"
             },
             "line": {
              "color": "white"
             }
            },
            "type": "table"
           }
          ]
         },
         "layout": {
          "annotationdefaults": {
           "arrowcolor": "#2a3f5f",
           "arrowhead": 0,
           "arrowwidth": 1
          },
          "autotypenumbers": "strict",
          "coloraxis": {
           "colorbar": {
            "outlinewidth": 0,
            "ticks": ""
           }
          },
          "colorscale": {
           "diverging": [
            [
             0,
             "#8e0152"
            ],
            [
             0.1,
             "#c51b7d"
            ],
            [
             0.2,
             "#de77ae"
            ],
            [
             0.3,
             "#f1b6da"
            ],
            [
             0.4,
             "#fde0ef"
            ],
            [
             0.5,
             "#f7f7f7"
            ],
            [
             0.6,
             "#e6f5d0"
            ],
            [
             0.7,
             "#b8e186"
            ],
            [
             0.8,
             "#7fbc41"
            ],
            [
             0.9,
             "#4d9221"
            ],
            [
             1,
             "#276419"
            ]
           ],
           "sequential": [
            [
             0,
             "#0d0887"
            ],
            [
             0.1111111111111111,
             "#46039f"
            ],
            [
             0.2222222222222222,
             "#7201a8"
            ],
            [
             0.3333333333333333,
             "#9c179e"
            ],
            [
             0.4444444444444444,
             "#bd3786"
            ],
            [
             0.5555555555555556,
             "#d8576b"
            ],
            [
             0.6666666666666666,
             "#ed7953"
            ],
            [
             0.7777777777777778,
             "#fb9f3a"
            ],
            [
             0.8888888888888888,
             "#fdca26"
            ],
            [
             1,
             "#f0f921"
            ]
           ],
           "sequentialminus": [
            [
             0,
             "#0d0887"
            ],
            [
             0.1111111111111111,
             "#46039f"
            ],
            [
             0.2222222222222222,
             "#7201a8"
            ],
            [
             0.3333333333333333,
             "#9c179e"
            ],
            [
             0.4444444444444444,
             "#bd3786"
            ],
            [
             0.5555555555555556,
             "#d8576b"
            ],
            [
             0.6666666666666666,
             "#ed7953"
            ],
            [
             0.7777777777777778,
             "#fb9f3a"
            ],
            [
             0.8888888888888888,
             "#fdca26"
            ],
            [
             1,
             "#f0f921"
            ]
           ]
          },
          "colorway": [
           "#636efa",
           "#EF553B",
           "#00cc96",
           "#ab63fa",
           "#FFA15A",
           "#19d3f3",
           "#FF6692",
           "#B6E880",
           "#FF97FF",
           "#FECB52"
          ],
          "font": {
           "color": "#2a3f5f"
          },
          "geo": {
           "bgcolor": "white",
           "lakecolor": "white",
           "landcolor": "#E5ECF6",
           "showlakes": true,
           "showland": true,
           "subunitcolor": "white"
          },
          "hoverlabel": {
           "align": "left"
          },
          "hovermode": "closest",
          "mapbox": {
           "style": "light"
          },
          "paper_bgcolor": "white",
          "plot_bgcolor": "#E5ECF6",
          "polar": {
           "angularaxis": {
            "gridcolor": "white",
            "linecolor": "white",
            "ticks": ""
           },
           "bgcolor": "#E5ECF6",
           "radialaxis": {
            "gridcolor": "white",
            "linecolor": "white",
            "ticks": ""
           }
          },
          "scene": {
           "xaxis": {
            "backgroundcolor": "#E5ECF6",
            "gridcolor": "white",
            "gridwidth": 2,
            "linecolor": "white",
            "showbackground": true,
            "ticks": "",
            "zerolinecolor": "white"
           },
           "yaxis": {
            "backgroundcolor": "#E5ECF6",
            "gridcolor": "white",
            "gridwidth": 2,
            "linecolor": "white",
            "showbackground": true,
            "ticks": "",
            "zerolinecolor": "white"
           },
           "zaxis": {
            "backgroundcolor": "#E5ECF6",
            "gridcolor": "white",
            "gridwidth": 2,
            "linecolor": "white",
            "showbackground": true,
            "ticks": "",
            "zerolinecolor": "white"
           }
          },
          "shapedefaults": {
           "line": {
            "color": "#2a3f5f"
           }
          },
          "ternary": {
           "aaxis": {
            "gridcolor": "white",
            "linecolor": "white",
            "ticks": ""
           },
           "baxis": {
            "gridcolor": "white",
            "linecolor": "white",
            "ticks": ""
           },
           "bgcolor": "#E5ECF6",
           "caxis": {
            "gridcolor": "white",
            "linecolor": "white",
            "ticks": ""
           }
          },
          "title": {
           "x": 0.05
          },
          "xaxis": {
           "automargin": true,
           "gridcolor": "white",
           "linecolor": "white",
           "ticks": "",
           "title": {
            "standoff": 15
           },
           "zerolinecolor": "white",
           "zerolinewidth": 2
          },
          "yaxis": {
           "automargin": true,
           "gridcolor": "white",
           "linecolor": "white",
           "ticks": "",
           "title": {
            "standoff": 15
           },
           "zerolinecolor": "white",
           "zerolinewidth": 2
          }
         }
        },
        "title": {
         "text": "Number of Anti-Sikh Victims in Each State"
        }
       }
      },
      "image/png": "[encoded data removed]",
      "text/html": [
       "<div>                            <div id=\"ae430b34-e182-457e-85e4-0e587c94d452\" class=\"plotly-graph-div\" style=\"height:525px; width:100%;\"></div>            <script type=\"text/javascript\">                require([\"plotly\"], function(Plotly) {                    window.PLOTLYENV=window.PLOTLYENV || {};                                    if (document.getElementById(\"ae430b34-e182-457e-85e4-0e587c94d452\")) {                    Plotly.newPlot(                        \"ae430b34-e182-457e-85e4-0e587c94d452\",                        [{\"colorbar\":{\"title\":{\"text\":\"VICTIM COUNT\"}},\"colorscale\":[[0.0,\"rgb(253, 224, 197)\"],[0.16666666666666666,\"rgb(250, 203, 166)\"],[0.3333333333333333,\"rgb(248, 181, 139)\"],[0.5,\"rgb(245, 158, 114)\"],[0.6666666666666666,\"rgb(242, 133, 93)\"],[0.8333333333333334,\"rgb(239, 106, 76)\"],[1.0,\"rgb(235, 74, 64)\"]],\"locationmode\":\"USA-states\",\"locations\":[\"AL\",\"AR\",\"AZ\",\"CA\",\"CO\",\"DC\",\"GA\",\"IA\",\"ID\",\"IL\",\"IN\",\"KS\",\"LA\",\"MI\",\"MN\",\"MO\",\"MT\",\"NB\",\"NC\",\"ND\",\"NM\",\"NV\",\"OH\",\"OK\",\"PA\",\"SC\",\"SD\",\"TN\",\"TX\",\"UT\",\"VA\",\"VT\",\"WA\",\"WI\",\"WV\"],\"z\":[44,1,2,10,3,1,20,2,1,3,8,13,9,14,4,12,8,1,57,1,3,4,46,1,1,25,2,13,43,10,2,5,19,6,46],\"type\":\"choropleth\"}],                        {\"template\":{\"data\":{\"histogram2dcontour\":[{\"type\":\"histogram2dcontour\",\"colorbar\":{\"outlinewidth\":0,\"ticks\":\"\"},\"colorscale\":[[0.0,\"#0d0887\"],[0.1111111111111111,\"#46039f\"],[0.2222222222222222,\"#7201a8\"],[0.3333333333333333,\"#9c179e\"],[0.4444444444444444,\"#bd3786\"],[0.5555555555555556,\"#d8576b\"],[0.6666666666666666,\"#ed7953\"],[0.7777777777777778,\"#fb9f3a\"],[0.8888888888888888,\"#fdca26\"],[1.0,\"#f0f921\"]]}],\"choropleth\":[{\"type\":\"choropleth\",\"colorbar\":{\"outlinewidth\":0,\"ticks\":\"\"}}],\"histogram2d\":[{\"type\":\"histogram2d\",\"colorbar\":{\"outlinewidth\":0,\"ticks\":\"\"},\"colorscale\":[[0.0,\"#0d0887\"],[0.1111111111111111,\"#46039f\"],[0.2222222222222222,\"#7201a8\"],[0.3333333333333333,\"#9c179e\"],[0.4444444444444444,\"#bd3786\"],[0.5555555555555556,\"#d8576b\"],[0.6666666666666666,\"#ed7953\"],[0.7777777777777778,\"#fb9f3a\"],[0.8888888888888888,\"#fdca26\"],[1.0,\"#f0f921\"]]}],\"heatmap\":[{\"type\":\"heatmap\",\"colorbar\":{\"outlinewidth\":0,\"ticks\":\"\"},\"colorscale\":[[0.0,\"#0d0887\"],[0.1111111111111111,\"#46039f\"],[0.2222222222222222,\"#7201a8\"],[0.3333333333333333,\"#9c179e\"],[0.4444444444444444,\"#bd3786\"],[0.5555555555555556,\"#d8576b\"],[0.6666666666666666,\"#ed7953\"],[0.7777777777777778,\"#fb9f3a\"],[0.8888888888888888,\"#fdca26\"],[1.0,\"#f0f921\"]]}],\"heatmapgl\":[{\"type\":\"heatmapgl\",\"colorbar\":{\"outlinewidth\":0,\"ticks\":\"\"},\"colorscale\":[[0.0,\"#0d0887\"],[0.1111111111111111,\"#46039f\"],[0.2222222222222222,\"#7201a8\"],[0.3333333333333333,\"#9c179e\"],[0.4444444444444444,\"#bd3786\"],[0.5555555555555556,\"#d8576b\"],[0.6666666666666666,\"#ed7953\"],[0.7777777777777778,\"#fb9f3a\"],[0.8888888888888888,\"#fdca26\"],[1.0,\"#f0f921\"]]}],\"contourcarpet\":[{\"type\":\"contourcarpet\",\"colorbar\":{\"outlinewidth\":0,\"ticks\":\"\"}}],\"contour\":[{\"type\":\"contour\",\"colorbar\":{\"outlinewidth\":0,\"ticks\":\"\"},\"colorscale\":[[0.0,\"#0d0887\"],[0.1111111111111111,\"#46039f\"],[0.2222222222222222,\"#7201a8\"],[0.3333333333333333,\"#9c179e\"],[0.4444444444444444,\"#bd3786\"],[0.5555555555555556,\"#d8576b\"],[0.6666666666666666,\"#ed7953\"],[0.7777777777777778,\"#fb9f3a\"],[0.8888888888888888,\"#fdca26\"],[1.0,\"#f0f921\"]]}],\"surface\":[{\"type\":\"surface\",\"colorbar\":{\"outlinewidth\":0,\"ticks\":\"\"},\"colorscale\":[[0.0,\"#0d0887\"],[0.1111111111111111,\"#46039f\"],[0.2222222222222222,\"#7201a8\"],[0.3333333333333333,\"#9c179e\"],[0.4444444444444444,\"#bd3786\"],[0.5555555555555556,\"#d8576b\"],[0.6666666666666666,\"#ed7953\"],[0.7777777777777778,\"#fb9f3a\"],[0.8888888888888888,\"#fdca26\"],[1.0,\"#f0f921\"]]}],\"mesh3d\":[{\"type\":\"mesh3d\",\"colorbar\":{\"outlinewidth\":0,\"ticks\":\"\"}}],\"scatter\":[{\"fillpattern\":{\"fillmode\":\"overlay\",\"size\":10,\"solidity\":0.2},\"type\":\"scatter\"}],\"parcoords\":[{\"type\":\"parcoords\",\"line\":{\"colorbar\":{\"outlinewidth\":0,\"ticks\":\"\"}}}],\"scatterpolargl\":[{\"type\":\"scatterpolargl\",\"marker\":{\"colorbar\":{\"outlinewidth\":0,\"ticks\":\"\"}}}],\"bar\":[{\"error_x\":{\"color\":\"#2a3f5f\"},\"error_y\":{\"color\":\"#2a3f5f\"},\"marker\":{\"line\":{\"color\":\"#E5ECF6\",\"width\":0.5},\"pattern\":{\"fillmode\":\"overlay\",\"size\":10,\"solidity\":0.2}},\"type\":\"bar\"}],\"scattergeo\":[{\"type\":\"scattergeo\",\"marker\":{\"colorbar\":{\"outlinewidth\":0,\"ticks\":\"\"}}}],\"scatterpolar\":[{\"type\":\"scatterpolar\",\"marker\":{\"colorbar\":{\"outlinewidth\":0,\"ticks\":\"\"}}}],\"histogram\":[{\"marker\":{\"pattern\":{\"fillmode\":\"overlay\",\"size\":10,\"solidity\":0.2}},\"type\":\"histogram\"}],\"scattergl\":[{\"type\":\"scattergl\",\"marker\":{\"colorbar\":{\"outlinewidth\":0,\"ticks\":\"\"}}}],\"scatter3d\":[{\"type\":\"scatter3d\",\"line\":{\"colorbar\":{\"outlinewidth\":0,\"ticks\":\"\"}},\"marker\":{\"colorbar\":{\"outlinewidth\":0,\"ticks\":\"\"}}}],\"scattermapbox\":[{\"type\":\"scattermapbox\",\"marker\":{\"colorbar\":{\"outlinewidth\":0,\"ticks\":\"\"}}}],\"scatterternary\":[{\"type\":\"scatterternary\",\"marker\":{\"colorbar\":{\"outlinewidth\":0,\"ticks\":\"\"}}}],\"scattercarpet\":[{\"type\":\"scattercarpet\",\"marker\":{\"colorbar\":{\"outlinewidth\":0,\"ticks\":\"\"}}}],\"carpet\":[{\"aaxis\":{\"endlinecolor\":\"#2a3f5f\",\"gridcolor\":\"white\",\"linecolor\":\"white\",\"minorgridcolor\":\"white\",\"startlinecolor\":\"#2a3f5f\"},\"baxis\":{\"endlinecolor\":\"#2a3f5f\",\"gridcolor\":\"white\",\"linecolor\":\"white\",\"minorgridcolor\":\"white\",\"startlinecolor\":\"#2a3f5f\"},\"type\":\"carpet\"}],\"table\":[{\"cells\":{\"fill\":{\"color\":\"#EBF0F8\"},\"line\":{\"color\":\"white\"}},\"header\":{\"fill\":{\"color\":\"#C8D4E3\"},\"line\":{\"color\":\"white\"}},\"type\":\"table\"}],\"barpolar\":[{\"marker\":{\"line\":{\"color\":\"#E5ECF6\",\"width\":0.5},\"pattern\":{\"fillmode\":\"overlay\",\"size\":10,\"solidity\":0.2}},\"type\":\"barpolar\"}],\"pie\":[{\"automargin\":true,\"type\":\"pie\"}]},\"layout\":{\"autotypenumbers\":\"strict\",\"colorway\":[\"#636efa\",\"#EF553B\",\"#00cc96\",\"#ab63fa\",\"#FFA15A\",\"#19d3f3\",\"#FF6692\",\"#B6E880\",\"#FF97FF\",\"#FECB52\"],\"font\":{\"color\":\"#2a3f5f\"},\"hovermode\":\"closest\",\"hoverlabel\":{\"align\":\"left\"},\"paper_bgcolor\":\"white\",\"plot_bgcolor\":\"#E5ECF6\",\"polar\":{\"bgcolor\":\"#E5ECF6\",\"angularaxis\":{\"gridcolor\":\"white\",\"linecolor\":\"white\",\"ticks\":\"\"},\"radialaxis\":{\"gridcolor\":\"white\",\"linecolor\":\"white\",\"ticks\":\"\"}},\"ternary\":{\"bgcolor\":\"#E5ECF6\",\"aaxis\":{\"gridcolor\":\"white\",\"linecolor\":\"white\",\"ticks\":\"\"},\"baxis\":{\"gridcolor\":\"white\",\"linecolor\":\"white\",\"ticks\":\"\"},\"caxis\":{\"gridcolor\":\"white\",\"linecolor\":\"white\",\"ticks\":\"\"}},\"coloraxis\":{\"colorbar\":{\"outlinewidth\":0,\"ticks\":\"\"}},\"colorscale\":{\"sequential\":[[0.0,\"#0d0887\"],[0.1111111111111111,\"#46039f\"],[0.2222222222222222,\"#7201a8\"],[0.3333333333333333,\"#9c179e\"],[0.4444444444444444,\"#bd3786\"],[0.5555555555555556,\"#d8576b\"],[0.6666666666666666,\"#ed7953\"],[0.7777777777777778,\"#fb9f3a\"],[0.8888888888888888,\"#fdca26\"],[1.0,\"#f0f921\"]],\"sequentialminus\":[[0.0,\"#0d0887\"],[0.1111111111111111,\"#46039f\"],[0.2222222222222222,\"#7201a8\"],[0.3333333333333333,\"#9c179e\"],[0.4444444444444444,\"#bd3786\"],[0.5555555555555556,\"#d8576b\"],[0.6666666666666666,\"#ed7953\"],[0.7777777777777778,\"#fb9f3a\"],[0.8888888888888888,\"#fdca26\"],[1.0,\"#f0f921\"]],\"diverging\":[[0,\"#8e0152\"],[0.1,\"#c51b7d\"],[0.2,\"#de77ae\"],[0.3,\"#f1b6da\"],[0.4,\"#fde0ef\"],[0.5,\"#f7f7f7\"],[0.6,\"#e6f5d0\"],[0.7,\"#b8e186\"],[0.8,\"#7fbc41\"],[0.9,\"#4d9221\"],[1,\"#276419\"]]},\"xaxis\":{\"gridcolor\":\"white\",\"linecolor\":\"white\",\"ticks\":\"\",\"title\":{\"standoff\":15},\"zerolinecolor\":\"white\",\"automargin\":true,\"zerolinewidth\":2},\"yaxis\":{\"gridcolor\":\"white\",\"linecolor\":\"white\",\"ticks\":\"\",\"title\":{\"standoff\":15},\"zerolinecolor\":\"white\",\"automargin\":true,\"zerolinewidth\":2},\"scene\":{\"xaxis\":{\"backgroundcolor\":\"#E5ECF6\",\"gridcolor\":\"white\",\"linecolor\":\"white\",\"showbackground\":true,\"ticks\":\"\",\"zerolinecolor\":\"white\",\"gridwidth\":2},\"yaxis\":{\"backgroundcolor\":\"#E5ECF6\",\"gridcolor\":\"white\",\"linecolor\":\"white\",\"showbackground\":true,\"ticks\":\"\",\"zerolinecolor\":\"white\",\"gridwidth\":2},\"zaxis\":{\"backgroundcolor\":\"#E5ECF6\",\"gridcolor\":\"white\",\"linecolor\":\"white\",\"showbackground\":true,\"ticks\":\"\",\"zerolinecolor\":\"white\",\"gridwidth\":2}},\"shapedefaults\":{\"line\":{\"color\":\"#2a3f5f\"}},\"annotationdefaults\":{\"arrowcolor\":\"#2a3f5f\",\"arrowhead\":0,\"arrowwidth\":1},\"geo\":{\"bgcolor\":\"white\",\"landcolor\":\"#E5ECF6\",\"subunitcolor\":\"white\",\"showland\":true,\"showlakes\":true,\"lakecolor\":\"white\"},\"title\":{\"x\":0.05},\"mapbox\":{\"style\":\"light\"}}},\"title\":{\"text\":\"Number of Anti-Sikh Victims in Each State\"},\"geo\":{\"scope\":\"usa\"}},                        {\"responsive\": true}                    ).then(function(){\n",
       "                            \n",
       "var gd = document.getElementById('ae430b34-e182-457e-85e4-0e587c94d452');\n",
       "var x = new MutationObserver(function (mutations, observer) {{\n",
       "        var display = window.getComputedStyle(gd).display;\n",
       "        if (!display || display === 'none') {{\n",
       "            console.log([gd, 'removed!']);\n",
       "            Plotly.purge(gd);\n",
       "            observer.disconnect();\n",
       "        }}\n",
       "}});\n",
       "\n",
       "// Listen for the removal of the full notebook cells\n",
       "var notebookContainer = gd.closest('#notebook-container');\n",
       "if (notebookContainer) {{\n",
       "    x.observe(notebookContainer, {childList: true});\n",
       "}}\n",
       "\n",
       "// Listen for the clearing of the current output cell\n",
       "var outputEl = gd.closest('.output');\n",
       "if (outputEl) {{\n",
       "    x.observe(outputEl, {childList: true});\n",
       "}}\n",
       "\n",
       "                        })                };                });            </script>        </div>"
      ]
     },
     "metadata": {},
     "output_type": "display_data"
    }
   ],
   "source": [
    "this_df = df_sikh.groupby('state_abbr').count()\n",
    "\n",
    "this_df_groups = this_df.reset_index()\n",
    " \n",
    "graph = this_df_groups[['state_abbr','victim_count']]\n",
    "\n",
    "\n",
    "fig2 = go.Figure(data=go.Choropleth(\n",
    "    locations=graph['state_abbr'], \n",
    "    z = graph['victim_count'], \n",
    "    locationmode = 'USA-states', \n",
    "    colorscale = 'peach',\n",
    "    colorbar_title = \"VICTIM COUNT\",\n",
    "))\n",
    "\n",
    "fig2.update_layout(\n",
    "    title_text = 'Number of Anti-Sikh Victims in Each State',\n",
    "    geo_scope='usa', # limite map scope to USA\n",
    ")\n",
    "#fig.update_layout(margin={\"r\":0,\"t\":0,\"l\":0,\"b\":0})\n",
    "fig2.show()"
   ]
  },
  {
   "cell_type": "code",
   "execution_count": null,
   "id": "cf862dd4-0072-419a-8298-02c40b96e9bb",
   "metadata": {},
   "outputs": [],
   "source": []
  }
 ],
 "metadata": {
  "kernelspec": {
   "display_name": "Python 3 (ipykernel)",
   "language": "python",
   "name": "python3"
  },
  "language_info": {
   "codemirror_mode": {
    "name": "ipython",
    "version": 3
   },
   "file_extension": ".py",
   "mimetype": "text/x-python",
   "name": "python",
   "nbconvert_exporter": "python",
   "pygments_lexer": "ipython3",
   "version": "3.8.13"
  }
 },
 "nbformat": 4,
 "nbformat_minor": 5
}
